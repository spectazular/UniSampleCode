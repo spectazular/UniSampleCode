{
 "cells": [
  {
   "cell_type": "code",
   "execution_count": null,
   "id": "8088c02b-e2c7-43be-9c46-232e7451e334",
   "metadata": {},
   "outputs": [],
   "source": [
    "import pandas as pd\n",
    "import numpy as np\n",
    "import matplotlib.pyplot as plt\n",
    "from statsmodels.tsa.stattools import adfuller\n",
    "\n",
    "df = pd.read_csv('mvw_AllProjects_Summary.csv')\n",
    "df['createdat'] = pd.to_datetime(df['createdat'])\n",
    "df['createdat'] = df['createdat'].dt.date\n",
    "\n",
    "df.head()"
   ]
  },
  {
   "cell_type": "code",
   "execution_count": 2,
   "id": "bceb68af-bd31-47c7-be72-b886aa48a215",
   "metadata": {},
   "outputs": [
    {
     "name": "stdout",
     "output_type": "stream",
     "text": [
      "ADF Test Statistic: 0.056788567361105796\n",
      "p-value: 0.9629839688425441\n"
     ]
    }
   ],
   "source": [
    "# Perform the ADF test\n",
    "results = adfuller(df['commitcommentevent'])\n",
    "\n",
    "# Extract and print the test statistics and p-value\n",
    "test_statistic = results[0]\n",
    "p_value = results[1]\n",
    "print(\"ADF Test Statistic:\", test_statistic)\n",
    "print(\"p-value:\", p_value)"
   ]
  },
  {
   "cell_type": "code",
   "execution_count": 3,
   "id": "8fb0d900-c2dc-4088-8576-3c5ed9b1991b",
   "metadata": {},
   "outputs": [
    {
     "name": "stdout",
     "output_type": "stream",
     "text": [
      "ADF Test Statistic: -2.765594618852172\n",
      "p-value: 0.0633588751221034\n"
     ]
    }
   ],
   "source": [
    "# Perform the ADF test\n",
    "results = adfuller(df['createevent'])\n",
    "\n",
    "# Extract and print the test statistics and p-value\n",
    "test_statistic = results[0]\n",
    "p_value = results[1]\n",
    "print(\"ADF Test Statistic:\", test_statistic)\n",
    "print(\"p-value:\", p_value)"
   ]
  },
  {
   "cell_type": "code",
   "execution_count": 4,
   "id": "5dd81f80-a015-4ee0-8a26-02d555f1798f",
   "metadata": {},
   "outputs": [
    {
     "name": "stdout",
     "output_type": "stream",
     "text": [
      "ADF Test Statistic: -4.408281805606389\n",
      "p-value: 0.000286973678025818\n"
     ]
    }
   ],
   "source": [
    "# Perform the ADF test\n",
    "results = adfuller(df['deleteevent'])\n",
    "\n",
    "# Extract and print the test statistics and p-value\n",
    "test_statistic = results[0]\n",
    "p_value = results[1]\n",
    "print(\"ADF Test Statistic:\", test_statistic)\n",
    "print(\"p-value:\", p_value)"
   ]
  },
  {
   "cell_type": "code",
   "execution_count": 5,
   "id": "5362625d-e044-4081-8b99-7327e2260bb5",
   "metadata": {},
   "outputs": [
    {
     "name": "stdout",
     "output_type": "stream",
     "text": [
      "ADF Test Statistic: -3.230033018843463\n",
      "p-value: 0.018310751598095008\n"
     ]
    }
   ],
   "source": [
    "# Perform the ADF test\n",
    "results = adfuller(df['forkevent'])\n",
    "\n",
    "# Extract and print the test statistics and p-value\n",
    "test_statistic = results[0]\n",
    "p_value = results[1]\n",
    "print(\"ADF Test Statistic:\", test_statistic)\n",
    "print(\"p-value:\", p_value)"
   ]
  },
  {
   "cell_type": "code",
   "execution_count": 6,
   "id": "2badbc8e-8b65-4e89-abaf-1d4c2d096dc2",
   "metadata": {},
   "outputs": [
    {
     "name": "stdout",
     "output_type": "stream",
     "text": [
      "ADF Test Statistic: -6.133275353746053\n",
      "p-value: 8.302605761464967e-08\n"
     ]
    }
   ],
   "source": [
    "# Perform the ADF test\n",
    "results = adfuller(df['gollumevent'])\n",
    "\n",
    "# Extract and print the test statistics and p-value\n",
    "test_statistic = results[0]\n",
    "p_value = results[1]\n",
    "print(\"ADF Test Statistic:\", test_statistic)\n",
    "print(\"p-value:\", p_value)"
   ]
  },
  {
   "cell_type": "code",
   "execution_count": 7,
   "id": "41856e4a-25ee-4ca4-9378-00f6de01fe94",
   "metadata": {},
   "outputs": [
    {
     "name": "stdout",
     "output_type": "stream",
     "text": [
      "ADF Test Statistic: -3.6691095269542484\n",
      "p-value: 0.004569243730416328\n"
     ]
    }
   ],
   "source": [
    "# Perform the ADF test\n",
    "results = adfuller(df['issuecommentevent'])\n",
    "\n",
    "# Extract and print the test statistics and p-value\n",
    "test_statistic = results[0]\n",
    "p_value = results[1]\n",
    "print(\"ADF Test Statistic:\", test_statistic)\n",
    "print(\"p-value:\", p_value)"
   ]
  },
  {
   "cell_type": "code",
   "execution_count": 8,
   "id": "05d3e932-4636-4327-9b24-dee06fbe12d4",
   "metadata": {},
   "outputs": [
    {
     "name": "stdout",
     "output_type": "stream",
     "text": [
      "ADF Test Statistic: -4.5598702457594005\n",
      "p-value: 0.00015305128752424825\n"
     ]
    }
   ],
   "source": [
    "# Perform the ADF test\n",
    "results = adfuller(df['issuesevent'])\n",
    "\n",
    "# Extract and print the test statistics and p-value\n",
    "test_statistic = results[0]\n",
    "p_value = results[1]\n",
    "print(\"ADF Test Statistic:\", test_statistic)\n",
    "print(\"p-value:\", p_value)"
   ]
  },
  {
   "cell_type": "code",
   "execution_count": 9,
   "id": "476f7722-3580-4cf7-abe9-26720a16199f",
   "metadata": {},
   "outputs": [
    {
     "name": "stdout",
     "output_type": "stream",
     "text": [
      "ADF Test Statistic: -6.0789058623450325\n",
      "p-value: 1.104319706824657e-07\n"
     ]
    }
   ],
   "source": [
    "# Perform the ADF test\n",
    "results = adfuller(df['memberevent'])\n",
    "\n",
    "# Extract and print the test statistics and p-value\n",
    "test_statistic = results[0]\n",
    "p_value = results[1]\n",
    "print(\"ADF Test Statistic:\", test_statistic)\n",
    "print(\"p-value:\", p_value)"
   ]
  },
  {
   "cell_type": "code",
   "execution_count": 10,
   "id": "b7c6b7ec-f0bb-4691-9af0-50cab11e4a32",
   "metadata": {},
   "outputs": [
    {
     "name": "stdout",
     "output_type": "stream",
     "text": [
      "ADF Test Statistic: -1.3814084759260097\n",
      "p-value: 0.5911559658601584\n"
     ]
    }
   ],
   "source": [
    "# Perform the ADF test\n",
    "results = adfuller(df['publicevent'])\n",
    "\n",
    "# Extract and print the test statistics and p-value\n",
    "test_statistic = results[0]\n",
    "p_value = results[1]\n",
    "print(\"ADF Test Statistic:\", test_statistic)\n",
    "print(\"p-value:\", p_value)"
   ]
  },
  {
   "cell_type": "code",
   "execution_count": 11,
   "id": "8f4b1491-c859-4292-be25-d3f4ae06348b",
   "metadata": {},
   "outputs": [
    {
     "name": "stdout",
     "output_type": "stream",
     "text": [
      "ADF Test Statistic: -4.7530022168303425\n",
      "p-value: 6.683665982428218e-05\n"
     ]
    }
   ],
   "source": [
    "# Perform the ADF test\n",
    "results = adfuller(df['pullrequestevent'])\n",
    "\n",
    "# Extract and print the test statistics and p-value\n",
    "test_statistic = results[0]\n",
    "p_value = results[1]\n",
    "print(\"ADF Test Statistic:\", test_statistic)\n",
    "print(\"p-value:\", p_value)"
   ]
  },
  {
   "cell_type": "code",
   "execution_count": 12,
   "id": "826cb4d5-b5a8-4d59-8073-4db7dfb51f85",
   "metadata": {},
   "outputs": [
    {
     "name": "stdout",
     "output_type": "stream",
     "text": [
      "ADF Test Statistic: -1.0908785905084484\n",
      "p-value: 0.718695676371413\n"
     ]
    }
   ],
   "source": [
    "# Perform the ADF test\n",
    "results = adfuller(df['pullrequestreviewevent'])\n",
    "\n",
    "# Extract and print the test statistics and p-value\n",
    "test_statistic = results[0]\n",
    "p_value = results[1]\n",
    "print(\"ADF Test Statistic:\", test_statistic)\n",
    "print(\"p-value:\", p_value)"
   ]
  },
  {
   "cell_type": "code",
   "execution_count": 13,
   "id": "e780b079-88e9-4b54-860a-afb856cd298f",
   "metadata": {},
   "outputs": [
    {
     "name": "stdout",
     "output_type": "stream",
     "text": [
      "ADF Test Statistic: -1.019617317694292\n",
      "p-value: 0.7460422637051739\n"
     ]
    }
   ],
   "source": [
    "# Perform the ADF test\n",
    "results = adfuller(df['pushevent'])\n",
    "\n",
    "# Extract and print the test statistics and p-value\n",
    "test_statistic = results[0]\n",
    "p_value = results[1]\n",
    "print(\"ADF Test Statistic:\", test_statistic)\n",
    "print(\"p-value:\", p_value)"
   ]
  },
  {
   "cell_type": "code",
   "execution_count": 14,
   "id": "f418c095-2fe0-41f5-a6db-d46956c8332e",
   "metadata": {},
   "outputs": [
    {
     "name": "stdout",
     "output_type": "stream",
     "text": [
      "ADF Test Statistic: -2.080212422645628\n",
      "p-value: 0.2525453592554465\n"
     ]
    }
   ],
   "source": [
    "# Perform the ADF test\n",
    "results = adfuller(df['releaseevent'])\n",
    "\n",
    "# Extract and print the test statistics and p-value\n",
    "test_statistic = results[0]\n",
    "p_value = results[1]\n",
    "print(\"ADF Test Statistic:\", test_statistic)\n",
    "print(\"p-value:\", p_value)"
   ]
  },
  {
   "cell_type": "raw",
   "id": "acaa3244-0fea-41cd-9dc7-da429034c1b4",
   "metadata": {},
   "source": [
    "# Perform the ADF test\n",
    "results = adfuller(df['watchevent'])\n",
    "\n",
    "# Extract and print the test statistics and p-value\n",
    "test_statistic = results[0]\n",
    "p_value = results[1]\n",
    "print(\"ADF Test Statistic:\", test_statistic)\n",
    "print(\"p-value:\", p_value)"
   ]
  },
  {
   "cell_type": "code",
   "execution_count": null,
   "id": "07fcef36-a33a-4f15-844f-45031a918d80",
   "metadata": {},
   "outputs": [],
   "source": []
  }
 ],
 "metadata": {
  "kernelspec": {
   "display_name": "Python 3 (ipykernel)",
   "language": "python",
   "name": "python3"
  },
  "language_info": {
   "codemirror_mode": {
    "name": "ipython",
    "version": 3
   },
   "file_extension": ".py",
   "mimetype": "text/x-python",
   "name": "python",
   "nbconvert_exporter": "python",
   "pygments_lexer": "ipython3",
   "version": "3.9.0"
  }
 },
 "nbformat": 4,
 "nbformat_minor": 5
}
