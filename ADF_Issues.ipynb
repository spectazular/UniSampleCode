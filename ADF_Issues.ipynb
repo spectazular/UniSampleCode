{
 "cells": [
  {
   "cell_type": "code",
   "execution_count": 2,
   "id": "3cf7772d-4b52-4360-836d-3d3533ce9765",
   "metadata": {},
   "outputs": [
    {
     "data": {
      "text/html": [
       "<div>\n",
       "<style scoped>\n",
       "    .dataframe tbody tr th:only-of-type {\n",
       "        vertical-align: middle;\n",
       "    }\n",
       "\n",
       "    .dataframe tbody tr th {\n",
       "        vertical-align: top;\n",
       "    }\n",
       "\n",
       "    .dataframe thead th {\n",
       "        text-align: right;\n",
       "    }\n",
       "</style>\n",
       "<table border=\"1\" class=\"dataframe\">\n",
       "  <thead>\n",
       "    <tr style=\"text-align: right;\">\n",
       "      <th></th>\n",
       "      <th>count</th>\n",
       "      <th>event_type</th>\n",
       "      <th>requesttype</th>\n",
       "      <th>created_at</th>\n",
       "    </tr>\n",
       "  </thead>\n",
       "  <tbody>\n",
       "    <tr>\n",
       "      <th>0</th>\n",
       "      <td>1</td>\n",
       "      <td>IssuesEvent</td>\n",
       "      <td>NaN</td>\n",
       "      <td>2018-01-01</td>\n",
       "    </tr>\n",
       "    <tr>\n",
       "      <th>1</th>\n",
       "      <td>4</td>\n",
       "      <td>IssuesEvent</td>\n",
       "      <td>NaN</td>\n",
       "      <td>2018-01-02</td>\n",
       "    </tr>\n",
       "    <tr>\n",
       "      <th>2</th>\n",
       "      <td>16</td>\n",
       "      <td>IssuesEvent</td>\n",
       "      <td>NaN</td>\n",
       "      <td>2018-01-03</td>\n",
       "    </tr>\n",
       "    <tr>\n",
       "      <th>3</th>\n",
       "      <td>3</td>\n",
       "      <td>IssuesEvent</td>\n",
       "      <td>Bug</td>\n",
       "      <td>2018-01-03</td>\n",
       "    </tr>\n",
       "    <tr>\n",
       "      <th>4</th>\n",
       "      <td>15</td>\n",
       "      <td>IssuesEvent</td>\n",
       "      <td>NaN</td>\n",
       "      <td>2018-01-04</td>\n",
       "    </tr>\n",
       "  </tbody>\n",
       "</table>\n",
       "</div>"
      ],
      "text/plain": [
       "   count   event_type requesttype  created_at\n",
       "0      1  IssuesEvent         NaN  2018-01-01\n",
       "1      4  IssuesEvent         NaN  2018-01-02\n",
       "2     16  IssuesEvent         NaN  2018-01-03\n",
       "3      3  IssuesEvent         Bug  2018-01-03\n",
       "4     15  IssuesEvent         NaN  2018-01-04"
      ]
     },
     "execution_count": 2,
     "metadata": {},
     "output_type": "execute_result"
    }
   ],
   "source": [
    "import pandas as pd\n",
    "import numpy as np\n",
    "import matplotlib.pyplot as plt\n",
    "from statsmodels.tsa.stattools import adfuller\n",
    "\n",
    "df = pd.read_csv('issues_summary.csv')\n",
    "df['created_at'] = pd.to_datetime(df['created_at'])\n",
    "df['created_at'] = df['created_at'].dt.date\n",
    "\n",
    "df.head()"
   ]
  },
  {
   "cell_type": "code",
   "execution_count": 11,
   "id": "b4784eb4-c7bf-495c-954f-3b1b782dbab5",
   "metadata": {},
   "outputs": [
    {
     "name": "stdout",
     "output_type": "stream",
     "text": [
      "ADF Test Statistic: -5.26612264536957\n",
      "p-value: 6.433398331431618e-06\n"
     ]
    }
   ],
   "source": [
    "# Perform the ADF test\n",
    "filtered_df = df[df['requesttype'] == 'Bug']\n",
    "results = adfuller(df['count'])\n",
    "\n",
    "# Extract and print the test statistics and p-value\n",
    "test_statistic = results[0]\n",
    "p_value = results[1]\n",
    "print(\"ADF Test Statistic:\", test_statistic)\n",
    "print(\"p-value:\", p_value)"
   ]
  },
  {
   "cell_type": "code",
   "execution_count": 12,
   "id": "6525a36c-40ca-4054-a3f6-784921a1fa1c",
   "metadata": {},
   "outputs": [
    {
     "name": "stdout",
     "output_type": "stream",
     "text": [
      "ADF Test Statistic: -5.26612264536957\n",
      "p-value: 6.433398331431618e-06\n"
     ]
    }
   ],
   "source": [
    "# Perform the ADF test\n",
    "filtered_df = df[df['requesttype'] == 'Feature']\n",
    "results = adfuller(df['count'])\n",
    "\n",
    "# Extract and print the test statistics and p-value\n",
    "test_statistic = results[0]\n",
    "p_value = results[1]\n",
    "print(\"ADF Test Statistic:\", test_statistic)\n",
    "print(\"p-value:\", p_value)"
   ]
  },
  {
   "cell_type": "code",
   "execution_count": 13,
   "id": "895165a8-45de-41a0-9c07-68f31bd5dcb9",
   "metadata": {},
   "outputs": [
    {
     "name": "stdout",
     "output_type": "stream",
     "text": [
      "ADF Test Statistic: -5.26612264536957\n",
      "p-value: 6.433398331431618e-06\n"
     ]
    }
   ],
   "source": [
    "# Perform the ADF test\n",
    "filtered_df = df[df['requesttype'] == '']\n",
    "results = adfuller(df['count'])\n",
    "\n",
    "# Extract and print the test statistics and p-value\n",
    "test_statistic = results[0]\n",
    "p_value = results[1]\n",
    "print(\"ADF Test Statistic:\", test_statistic)\n",
    "print(\"p-value:\", p_value)"
   ]
  },
  {
   "cell_type": "code",
   "execution_count": null,
   "id": "25fbf0d8-70b1-4002-8994-d91b322b4a75",
   "metadata": {},
   "outputs": [],
   "source": []
  }
 ],
 "metadata": {
  "kernelspec": {
   "display_name": "Python 3 (ipykernel)",
   "language": "python",
   "name": "python3"
  },
  "language_info": {
   "codemirror_mode": {
    "name": "ipython",
    "version": 3
   },
   "file_extension": ".py",
   "mimetype": "text/x-python",
   "name": "python",
   "nbconvert_exporter": "python",
   "pygments_lexer": "ipython3",
   "version": "3.9.0"
  }
 },
 "nbformat": 4,
 "nbformat_minor": 5
}
